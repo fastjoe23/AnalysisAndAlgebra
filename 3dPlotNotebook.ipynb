{
 "cells": [
  {
   "cell_type": "markdown",
   "metadata": {},
   "source": [
    "# Einführung in Jupyter Notebook\n",
    "\n",
    "## Was ist Jupyter Notebook?\n",
    "\n",
    "Jupyter Notebook ist eine beliebte Open-Source-Webanwendung, die es ermöglicht, interaktive Dokumente zu erstellen und auszuführen. Diese Dokumente können sowohl Code (in verschiedenen Programmiersprachen) als auch Text, Bilder und mathematische Formeln enthalten. Jupyter Notebook ist besonders bei Datenwissenschaftlern, Wissenschaftlern und Entwicklern weit verbreitet, da es eine effiziente Möglichkeit bietet, Code zu schreiben und gleichzeitig seine Ergebnisse in einem ansprechenden Format zu dokumentieren.\n",
    "\n",
    "## Warum Jupyter Notebook verwenden?\n",
    "\n",
    "Es gibt viele Gründe, Jupyter Notebook in deinem Arbeitsablauf zu integrieren:\n",
    "\n",
    "1. **Interaktive Datenanalyse:** Du kannst Code-Zellen verwenden, um Daten zu analysieren, Visualisierungen zu erstellen und Modelle zu entwickeln. Das Ergebnis wird direkt im Notebook angezeigt.\n",
    "\n",
    "2. **Text und Dokumentation:** Du kannst Textzellen hinzufügen, um Erklärungen, Anleitungen und Kommentare zu deinem Code bereitzustellen. Dies macht es einfacher, deine Arbeit zu dokumentieren und mit anderen zu teilen.\n",
    "\n",
    "3. **Unterstützung für verschiedene Programmiersprachen:** Jupyter Notebook unterstützt mehrere Programmiersprachen, darunter Python, R, Julia und viele andere. Du kannst sogar mehrere Sprachen in einem Notebook kombinieren.\n",
    "\n",
    "4. **Flexibilität:** Jupyter Notebooks sind vielseitig einsetzbar, sei es für Datenanalyse, wissenschaftliche Forschung, maschinelles Lernen, Prototyping von Software oder Bildungszwecke.\n"
   ]
  },
  {
   "cell_type": "markdown",
   "metadata": {},
   "source": [
    "## Wie mit Jupyter Notebook arbeiten?\n",
    "\n",
    "Ein Jupyter Notebook besteht aus Zellen. Es gibt zwei Haupttypen von Zellen:\n",
    "\n",
    "- **Code-Zellen:** Hier kannst du Code in der ausgewählten Programmiersprache schreiben und ausführen. Um eine Code-Zelle auszuführen, klicke auf die Zelle und drücke \"Shift + Enter\" oder klicke auf den \"Run\" (Ausführen) Button in der Symbolleiste oben.\n",
    "\n",
    "- **Text-Zellen:** Hier kannst du Text, Erklärungen und Dokumentation hinzufügen. Text-Zellen werden in Markdown-Format geschrieben.\n",
    "\n",
    "Du kannst Zellen hinzufügen, löschen und neu anordnen, indem du die Optionen in der Symbolleiste verwendest.\n"
   ]
  },
  {
   "cell_type": "code",
   "execution_count": null,
   "metadata": {},
   "outputs": [],
   "source": [
    "print(\"Dies ist eine Code-Zelle. Drücke mal links auf 'Play' oder Shift + Enter\")"
   ]
  },
  {
   "cell_type": "markdown",
   "metadata": {},
   "source": [
    "Die ist eine Markdown-Zelle."
   ]
  },
  {
   "cell_type": "markdown",
   "metadata": {},
   "source": [
    "# Erste Beispiele\n",
    "\n",
    "## Beispiel 1 Einfache Berechnungen:"
   ]
  },
  {
   "cell_type": "code",
   "execution_count": null,
   "metadata": {},
   "outputs": [],
   "source": [
    "# Dies ist eine Code-Zelle\n",
    "# Hier können wir einfache Berechnungen durchführen\n",
    "\n",
    "# Addition\n",
    "result_add = 5 + 3\n",
    "print(\"Addition:\", result_add)\n",
    "\n",
    "# Subtraktion\n",
    "result_sub = 10 - 4\n",
    "print(\"Subtraktion:\", result_sub)\n",
    "\n",
    "# Multiplikation\n",
    "result_mult = 6 * 7\n",
    "print(\"Multiplikation:\", result_mult)\n",
    "\n",
    "# Division\n",
    "result_div = 20 / 4\n",
    "print(\"Division:\", result_div)\n"
   ]
  },
  {
   "cell_type": "markdown",
   "metadata": {},
   "source": [
    "## Beispiel 2 Datenvisualisierung mit Matplotlib\n",
    "Hier verwenden wir die Matplotlib-Bibliothek, um eine Sinus-Funktion zu generieren und sie als Diagramm darzustellen:"
   ]
  },
  {
   "cell_type": "code",
   "execution_count": null,
   "metadata": {},
   "outputs": [],
   "source": [
    "pip install matplotlib"
   ]
  },
  {
   "cell_type": "code",
   "execution_count": null,
   "metadata": {},
   "outputs": [],
   "source": [
    "import matplotlib.pyplot as plt\n",
    "import numpy as np\n",
    "\n",
    "# Daten generieren\n",
    "x = np.linspace(0, 2 * np.pi, 100)\n",
    "y = np.sin(x)\n",
    "\n",
    "# Plot erstellen\n",
    "plt.figure(figsize=(8, 4))\n",
    "plt.plot(x, y, label='Sinus-Funktion')\n",
    "plt.title('Sinus-Funktion')\n",
    "plt.xlabel('x')\n",
    "plt.ylabel('sin(x)')\n",
    "plt.legend()\n",
    "plt.grid(True)\n",
    "plt.show()\n"
   ]
  },
  {
   "cell_type": "markdown",
   "metadata": {},
   "source": [
    "## 3D Plots\n",
    "Wir können mit Matplotlib auch schöne Bilder von Funktionen mehrerer Veränderlicher zeichnen:"
   ]
  },
  {
   "cell_type": "code",
   "execution_count": null,
   "metadata": {},
   "outputs": [],
   "source": [
    "import matplotlib.pyplot as plt\n",
    "import numpy as np\n",
    "\n",
    "from matplotlib import cm\n",
    "from matplotlib.ticker import LinearLocator\n",
    "\n",
    "fig, ax = plt.subplots(subplot_kw={\"projection\": \"3d\"})\n",
    "\n",
    "# Make data.\n",
    "X = np.arange(-5, 5, 0.25)\n",
    "Y = np.arange(-5, 5, 0.25)\n",
    "X, Y = np.meshgrid(X, Y)\n",
    "R = np.sqrt(X**2 + Y**2)\n",
    "Z = np.sin(R)\n",
    "\n",
    "# Plot the surface.\n",
    "surf = ax.plot_surface(X, Y, Z, cmap=cm.coolwarm,\n",
    "                       linewidth=0, antialiased=False)\n",
    "\n",
    "# Customize the z axis.\n",
    "ax.set_zlim(-1.01, 1.01)\n",
    "ax.zaxis.set_major_locator(LinearLocator(10))\n",
    "# A StrMethodFormatter is used automatically\n",
    "ax.zaxis.set_major_formatter('{x:.02f}')\n",
    "\n",
    "# Add a color bar which maps values to colors.\n",
    "fig.colorbar(surf, shrink=0.5, aspect=5)\n",
    "\n",
    "plt.show()"
   ]
  },
  {
   "cell_type": "markdown",
   "metadata": {},
   "source": [
    "Das Vorgehen besteht dabei aus vier Schritten:\n",
    "\n",
    "1. Die X und Y Werte generieren. Hier helfen die Befehle `np.arrange` und `np.meshgrid`.\n",
    "2. Die Funktionswerte berechnen. Das geschieht über `Z=f(X,Y)`.\n",
    "3. Die Oberfläche mittels des Befehls `ax.plot_surface()` erstellen.\n",
    "4. Die Grafik mittels `plt.show()` anzeigen lassen.\n",
    "\n",
    "Die übrigen Befehle im obigen Beispiel sind nur nötig, damit es etwas schöner aussieht. Hier nochmal ein minimal Beispiel für $f(x,y)= x^2 - y^2$."
   ]
  },
  {
   "cell_type": "code",
   "execution_count": null,
   "metadata": {},
   "outputs": [],
   "source": [
    "fig, ax = plt.subplots(subplot_kw={\"projection\": \"3d\"}) # ist auch nötig um die Grafikobjekte zu erzeugen\n",
    "# X und Y Daten generieren\n",
    "X = np.arange(-5, 5, 0.25)\n",
    "Y = np.arange(-5, 5, 0.25)\n",
    "X, Y = np.meshgrid(X, Y)\n",
    "\n",
    "# Funktionswerte berechnen\n",
    "Z = X**2 - Y**2\n",
    "\n",
    "# Den Oberflächen-Plot erzeugen\n",
    "surf = ax.plot_surface(X,Y,Z, cmap=cm.coolwarm) # cmap steht für colormap\n",
    "\n",
    "# Und anzeigen\n",
    "plt.show()"
   ]
  },
  {
   "cell_type": "markdown",
   "metadata": {},
   "source": [
    "# Jetzt bist du dran\n",
    "Ergänze in den unten stehenden Code-Zellen die auf dem Übungsblatt vorgegebenen Funktionen und visualisiere sie."
   ]
  },
  {
   "cell_type": "markdown",
   "metadata": {},
   "source": [
    "### Aufgabe 1 a) $f(x,y) = x^2 + y^2$"
   ]
  },
  {
   "cell_type": "code",
   "execution_count": null,
   "metadata": {},
   "outputs": [],
   "source": [
    "fig, ax = plt.subplots(subplot_kw={\"projection\": \"3d\"}) # ist auch nötig um die Grafikobjekte zu erzeugen\n",
    "# X und Y Daten generieren\n",
    "X = np.arange(-5, 5, 0.25)\n",
    "Y = np.arange(-5, 5, 0.25)\n",
    "X, Y = np.meshgrid(X, Y)\n",
    "\n",
    "# Funktionswerte berechnen\n",
    "# Z =  ??\n",
    "\n",
    "# Den Oberflächen-Plot erzeugen\n",
    "surf = ax.plot_surface(X,Y,Z, cmap=cm.coolwarm) # cmap steht für colormap\n",
    "\n",
    "# Und anzeigen\n",
    "plt.show()"
   ]
  },
  {
   "cell_type": "markdown",
   "metadata": {},
   "source": [
    "### Aufgabe 1 b) $f(x,y) = 36 + 6x -x^2 + 10 y - y^2$"
   ]
  },
  {
   "cell_type": "code",
   "execution_count": null,
   "metadata": {},
   "outputs": [],
   "source": [
    "fig, ax = plt.subplots(subplot_kw={\"projection\": \"3d\"}) # ist auch nötig um die Grafikobjekte zu erzeugen\n",
    "# X und Y Daten generieren\n",
    "X = np.arange(-10, 10, 0.25)\n",
    "Y = np.arange(-10, 20, 0.25)\n",
    "X, Y = np.meshgrid(X, Y)\n",
    "\n",
    "# Funktionswerte berechnen\n",
    "#Z =  \n",
    "\n",
    "# Den Oberflächen-Plot erzeugen\n",
    "surf = ax.plot_surface(X,Y,Z, cmap=cm.coolwarm) # cmap steht für colormap\n",
    "\n",
    "# Und anzeigen\n",
    "plt.show()"
   ]
  },
  {
   "cell_type": "markdown",
   "metadata": {},
   "source": [
    "### Aufgabe 1 c) $f(x,y) = \\frac{1}{2}\\sqrt[3]{x y^2}$\n",
    "*Hinweis:* Die $n$-te Wurzel von $x$ berechnet man als $$\\sqrt[n]{x}=x^{\\frac{1}{n}}$$ mittels dem Befehl zur Potenzberechnung `np.power()`.\n",
    "Dabei gilt\n",
    "$\\sqrt[n]{x}=$`np.power(x,(1/n))`"
   ]
  },
  {
   "cell_type": "code",
   "execution_count": null,
   "metadata": {},
   "outputs": [],
   "source": [
    "fig, ax = plt.subplots(subplot_kw={\"projection\": \"3d\"}) # ist auch nötig um die Grafikobjekte zu erzeugen\n",
    "# X und Y Daten generieren\n",
    "X = np.arange(-5, 5, 0.25)\n",
    "Y = np.arange(-5, 5, 0.25)\n",
    "X, Y = np.meshgrid(X, Y)\n",
    "\n",
    "# Funktionswerte berechnen\n",
    "#Z =  \n",
    "\n",
    "# Den Oberflächen-Plot erzeugen\n",
    "surf = ax.plot_surface(X,Y,Z, cmap=cm.coolwarm) # cmap steht für colormap\n",
    "\n",
    "# Und anzeigen\n",
    "plt.show()"
   ]
  },
  {
   "cell_type": "markdown",
   "metadata": {},
   "source": [
    "### Aufgabe 1 d) $f(x,y) = \\cos (\\sqrt{x^2 + y^2})$\n",
    "*Hinweis* Der Cosinus wird mittels `np.cos()` berechnet. Die Quadratwurzel mit `np.sqrt()`."
   ]
  },
  {
   "cell_type": "code",
   "execution_count": null,
   "metadata": {},
   "outputs": [],
   "source": [
    "fig, ax = plt.subplots(subplot_kw={\"projection\": \"3d\"}) # ist auch nötig um die Grafikobjekte zu erzeugen\n",
    "# X und Y Daten generieren\n",
    "X = np.arange(-5, 5, 0.25)\n",
    "Y = np.arange(-5, 5, 0.25)\n",
    "X, Y = np.meshgrid(X, Y)\n",
    "\n",
    "# Funktionswerte berechnen\n",
    "#Z = \n",
    "\n",
    "# Den Oberflächen-Plot erzeugen\n",
    "surf = ax.plot_surface(X,Y,Z, cmap=cm.coolwarm) # cmap steht für colormap\n",
    "\n",
    "# Und anzeigen\n",
    "plt.title(\"A nice little flower\")\n",
    "plt.show()"
   ]
  }
 ],
 "metadata": {
  "kernelspec": {
   "display_name": "Python 3",
   "language": "python",
   "name": "python3"
  },
  "language_info": {
   "codemirror_mode": {
    "name": "ipython",
    "version": 3
   },
   "file_extension": ".py",
   "mimetype": "text/x-python",
   "name": "python",
   "nbconvert_exporter": "python",
   "pygments_lexer": "ipython3",
   "version": "3.11.6"
  }
 },
 "nbformat": 4,
 "nbformat_minor": 2
}
